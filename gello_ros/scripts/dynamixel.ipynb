{
 "cells": [
  {
   "cell_type": "code",
   "execution_count": 17,
   "metadata": {},
   "outputs": [
    {
     "name": "stdout",
     "output_type": "stream",
     "text": [
      "Succeeded to open the port\n",
      "Succeeded to change the baudrate\n",
      "Time taken to read present position: 0.001023 seconds\n",
      "Present Position: 1071\n"
     ]
    }
   ],
   "source": [
    "import time\n",
    "import dynamixel_sdk as dxl\n",
    "\n",
    "# Control table address\n",
    "ADDR_PRO_PRESENT_POSITION = 132\n",
    "\n",
    "# Protocol version\n",
    "PROTOCOL_VERSION = 2.0\n",
    "\n",
    "# Default setting\n",
    "DXL_ID = 1                 # Dynamixel ID\n",
    "BAUDRATE = 3000000         # Updated baudrate\n",
    "DEVICENAME = '/dev/serial/by-id/usb-FTDI_USB__-__Serial_Converter_FT8ISUQE-if00-port0'  # Updated port\n",
    "\n",
    "# Initialize PortHandler instance\n",
    "portHandler = dxl.PortHandler(DEVICENAME)\n",
    "\n",
    "# Initialize PacketHandler instance\n",
    "packetHandler = dxl.PacketHandler(PROTOCOL_VERSION)\n",
    "\n",
    "# Open port\n",
    "if portHandler.openPort():\n",
    "    print(\"Succeeded to open the port\")\n",
    "else:\n",
    "    print(\"Failed to open the port\")\n",
    "    quit()\n",
    "\n",
    "# Set port baudrate\n",
    "if portHandler.setBaudRate(BAUDRATE):\n",
    "    print(\"Succeeded to change the baudrate\")\n",
    "else:\n",
    "    print(\"Failed to change the baudrate\")\n",
    "    quit()\n",
    "start_time= time.time()\n",
    "# Read present position\n",
    "dxl_present_position, dxl_comm_result, dxl_error = packetHandler.read4ByteTxRx(portHandler, DXL_ID, ADDR_PRO_PRESENT_POSITION)\n",
    "# End time\n",
    "end_time = time.time()\n",
    "# Print time taken\n",
    "print(\"Time taken to read present position: %f seconds\" % (end_time - start_time))\n",
    "if dxl_comm_result != dxl.COMM_SUCCESS:\n",
    "    print(\"%s\" % packetHandler.getTxRxResult(dxl_comm_result))\n",
    "elif dxl_error != 0:\n",
    "    print(\"%s\" % packetHandler.getRxPacketError(dxl_error))\n",
    "else:\n",
    "    print(\"Present Position: %d\" % dxl_present_position)\n",
    "\n",
    "# Close port\n",
    "portHandler.closePort()"
   ]
  },
  {
   "cell_type": "code",
   "execution_count": null,
   "metadata": {},
   "outputs": [],
   "source": []
  }
 ],
 "metadata": {
  "kernelspec": {
   "display_name": "Python 3",
   "language": "python",
   "name": "python3"
  },
  "language_info": {
   "codemirror_mode": {
    "name": "ipython",
    "version": 3
   },
   "file_extension": ".py",
   "mimetype": "text/x-python",
   "name": "python",
   "nbconvert_exporter": "python",
   "pygments_lexer": "ipython3",
   "version": "3.8.10"
  }
 },
 "nbformat": 4,
 "nbformat_minor": 2
}
